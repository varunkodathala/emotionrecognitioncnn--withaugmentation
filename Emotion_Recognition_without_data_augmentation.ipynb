{
 "cells": [
  {
   "cell_type": "code",
   "execution_count": 2,
   "metadata": {},
   "outputs": [],
   "source": [
    "import keras\n",
    "from keras.preprocessing.image import ImageDataGenerator\n",
    "from keras.models import Sequential\n",
    "from keras.layers import Dense,Dropout,Activation,Flatten,BatchNormalization\n",
    "from keras.layers import Conv2D,MaxPooling2D\n",
    "import os"
   ]
  },
  {
   "cell_type": "code",
   "execution_count": 3,
   "metadata": {},
   "outputs": [],
   "source": [
    "num_classes = 7\n",
    "img_rows,img_cols = 48,48\n",
    "batch_size = 64"
   ]
  },
  {
   "cell_type": "code",
   "execution_count": 4,
   "metadata": {},
   "outputs": [],
   "source": [
    "train_data_dir = '/Users/varun/Documents/Deep_Learning/data/train'\n",
    "validation_data_dir = '/Users/varun/Documents/Deep_Learning/data/test'"
   ]
  },
  {
   "cell_type": "code",
   "execution_count": 5,
   "metadata": {},
   "outputs": [],
   "source": [
    "train_datagen = ImageDataGenerator(rescale = 1./255)\n",
    "\n",
    "validation_datagen = ImageDataGenerator(rescale=1./255)\n",
    "\n"
   ]
  },
  {
   "cell_type": "code",
   "execution_count": 6,
   "metadata": {},
   "outputs": [
    {
     "name": "stdout",
     "output_type": "stream",
     "text": [
      "Found 28709 images belonging to 7 classes.\n",
      "Found 7178 images belonging to 7 classes.\n"
     ]
    }
   ],
   "source": [
    "train_generator = train_datagen.flow_from_directory(\n",
    "\t\t\t\t\ttrain_data_dir,\n",
    "\t\t\t\t\tcolor_mode='grayscale',\n",
    "\t\t\t\t\ttarget_size=(img_rows,img_cols),\n",
    "\t\t\t\t\tbatch_size=batch_size,\n",
    "\t\t\t\t\tclass_mode='categorical',\n",
    "\t\t\t\t\tshuffle=True)\n",
    "\n",
    "validation_generator = validation_datagen.flow_from_directory(\n",
    "\t\t\t\t\t\t\tvalidation_data_dir,\n",
    "\t\t\t\t\t\t\tcolor_mode='grayscale',\n",
    "\t\t\t\t\t\t\ttarget_size=(img_rows,img_cols),\n",
    "\t\t\t\t\t\t\tbatch_size=batch_size,\n",
    "\t\t\t\t\t\t\tclass_mode='categorical',\n",
    "\t\t\t\t\t\t\tshuffle=True)"
   ]
  },
  {
   "cell_type": "code",
   "execution_count": 7,
   "metadata": {},
   "outputs": [],
   "source": [
    "model = Sequential()\n",
    "\n",
    "model.add(Conv2D(32,(3,3),padding='same',kernel_initializer='he_normal',input_shape=(img_rows,img_cols,1)))\n",
    "model.add(Activation('relu'))\n",
    "model.add(BatchNormalization())\n",
    "model.add(Conv2D(32,(3,3),padding='same',kernel_initializer='he_normal',input_shape=(img_rows,img_cols,1)))\n",
    "model.add(Activation('relu'))\n",
    "model.add(BatchNormalization())\n",
    "model.add(MaxPooling2D(pool_size=(2,2)))\n",
    "model.add(Dropout(0.2))"
   ]
  },
  {
   "cell_type": "code",
   "execution_count": 8,
   "metadata": {},
   "outputs": [],
   "source": [
    "model.add(Conv2D(64,(3,3),padding='same',kernel_initializer='he_normal'))\n",
    "model.add(Activation('relu'))\n",
    "model.add(BatchNormalization())\n",
    "model.add(Conv2D(64,(3,3),padding='same',kernel_initializer='he_normal'))\n",
    "model.add(Activation('relu'))\n",
    "model.add(BatchNormalization())\n",
    "model.add(MaxPooling2D(pool_size=(2,2)))\n",
    "model.add(Dropout(0.2))"
   ]
  },
  {
   "cell_type": "code",
   "execution_count": 9,
   "metadata": {},
   "outputs": [],
   "source": [
    "model.add(Conv2D(128,(3,3),padding='same',kernel_initializer='he_normal'))\n",
    "model.add(Activation('relu'))\n",
    "model.add(BatchNormalization())\n",
    "model.add(Conv2D(128,(3,3),padding='same',kernel_initializer='he_normal'))\n",
    "model.add(Activation('relu'))\n",
    "model.add(BatchNormalization())\n",
    "model.add(MaxPooling2D(pool_size=(2,2)))\n",
    "model.add(Dropout(0.2))\n",
    "\n"
   ]
  },
  {
   "cell_type": "code",
   "execution_count": 10,
   "metadata": {},
   "outputs": [],
   "source": [
    "model.add(Conv2D(256,(3,3),padding='same',kernel_initializer='he_normal'))\n",
    "model.add(Activation('relu'))\n",
    "model.add(BatchNormalization())\n",
    "model.add(Conv2D(256,(3,3),padding='same',kernel_initializer='he_normal'))\n",
    "model.add(Activation('relu'))\n",
    "model.add(BatchNormalization())\n",
    "model.add(MaxPooling2D(pool_size=(2,2)))\n",
    "model.add(Dropout(0.2))"
   ]
  },
  {
   "cell_type": "code",
   "execution_count": 11,
   "metadata": {},
   "outputs": [],
   "source": [
    "model.add(Flatten())\n",
    "model.add(Dense(64,kernel_initializer='he_normal'))\n",
    "model.add(Activation('relu'))\n",
    "model.add(BatchNormalization())\n",
    "model.add(Dropout(0.5))"
   ]
  },
  {
   "cell_type": "code",
   "execution_count": 12,
   "metadata": {},
   "outputs": [],
   "source": [
    "model.add(Dense(64,kernel_initializer='he_normal'))\n",
    "model.add(Activation('relu'))\n",
    "model.add(BatchNormalization())\n",
    "model.add(Dropout(0.5))"
   ]
  },
  {
   "cell_type": "code",
   "execution_count": 13,
   "metadata": {},
   "outputs": [],
   "source": [
    "model.add(Dense(num_classes,kernel_initializer='he_normal'))\n",
    "model.add(Activation('softmax'))"
   ]
  },
  {
   "cell_type": "code",
   "execution_count": 14,
   "metadata": {},
   "outputs": [
    {
     "name": "stdout",
     "output_type": "stream",
     "text": [
      "Model: \"sequential_1\"\n",
      "_________________________________________________________________\n",
      "Layer (type)                 Output Shape              Param #   \n",
      "=================================================================\n",
      "conv2d_1 (Conv2D)            (None, 48, 48, 32)        320       \n",
      "_________________________________________________________________\n",
      "activation_1 (Activation)    (None, 48, 48, 32)        0         \n",
      "_________________________________________________________________\n",
      "batch_normalization_1 (Batch (None, 48, 48, 32)        128       \n",
      "_________________________________________________________________\n",
      "conv2d_2 (Conv2D)            (None, 48, 48, 32)        9248      \n",
      "_________________________________________________________________\n",
      "activation_2 (Activation)    (None, 48, 48, 32)        0         \n",
      "_________________________________________________________________\n",
      "batch_normalization_2 (Batch (None, 48, 48, 32)        128       \n",
      "_________________________________________________________________\n",
      "max_pooling2d_1 (MaxPooling2 (None, 24, 24, 32)        0         \n",
      "_________________________________________________________________\n",
      "dropout_1 (Dropout)          (None, 24, 24, 32)        0         \n",
      "_________________________________________________________________\n",
      "conv2d_3 (Conv2D)            (None, 24, 24, 64)        18496     \n",
      "_________________________________________________________________\n",
      "activation_3 (Activation)    (None, 24, 24, 64)        0         \n",
      "_________________________________________________________________\n",
      "batch_normalization_3 (Batch (None, 24, 24, 64)        256       \n",
      "_________________________________________________________________\n",
      "conv2d_4 (Conv2D)            (None, 24, 24, 64)        36928     \n",
      "_________________________________________________________________\n",
      "activation_4 (Activation)    (None, 24, 24, 64)        0         \n",
      "_________________________________________________________________\n",
      "batch_normalization_4 (Batch (None, 24, 24, 64)        256       \n",
      "_________________________________________________________________\n",
      "max_pooling2d_2 (MaxPooling2 (None, 12, 12, 64)        0         \n",
      "_________________________________________________________________\n",
      "dropout_2 (Dropout)          (None, 12, 12, 64)        0         \n",
      "_________________________________________________________________\n",
      "conv2d_5 (Conv2D)            (None, 12, 12, 128)       73856     \n",
      "_________________________________________________________________\n",
      "activation_5 (Activation)    (None, 12, 12, 128)       0         \n",
      "_________________________________________________________________\n",
      "batch_normalization_5 (Batch (None, 12, 12, 128)       512       \n",
      "_________________________________________________________________\n",
      "conv2d_6 (Conv2D)            (None, 12, 12, 128)       147584    \n",
      "_________________________________________________________________\n",
      "activation_6 (Activation)    (None, 12, 12, 128)       0         \n",
      "_________________________________________________________________\n",
      "batch_normalization_6 (Batch (None, 12, 12, 128)       512       \n",
      "_________________________________________________________________\n",
      "max_pooling2d_3 (MaxPooling2 (None, 6, 6, 128)         0         \n",
      "_________________________________________________________________\n",
      "dropout_3 (Dropout)          (None, 6, 6, 128)         0         \n",
      "_________________________________________________________________\n",
      "conv2d_7 (Conv2D)            (None, 6, 6, 256)         295168    \n",
      "_________________________________________________________________\n",
      "activation_7 (Activation)    (None, 6, 6, 256)         0         \n",
      "_________________________________________________________________\n",
      "batch_normalization_7 (Batch (None, 6, 6, 256)         1024      \n",
      "_________________________________________________________________\n",
      "conv2d_8 (Conv2D)            (None, 6, 6, 256)         590080    \n",
      "_________________________________________________________________\n",
      "activation_8 (Activation)    (None, 6, 6, 256)         0         \n",
      "_________________________________________________________________\n",
      "batch_normalization_8 (Batch (None, 6, 6, 256)         1024      \n",
      "_________________________________________________________________\n",
      "max_pooling2d_4 (MaxPooling2 (None, 3, 3, 256)         0         \n",
      "_________________________________________________________________\n",
      "dropout_4 (Dropout)          (None, 3, 3, 256)         0         \n",
      "_________________________________________________________________\n",
      "flatten_1 (Flatten)          (None, 2304)              0         \n",
      "_________________________________________________________________\n",
      "dense_1 (Dense)              (None, 64)                147520    \n",
      "_________________________________________________________________\n",
      "activation_9 (Activation)    (None, 64)                0         \n",
      "_________________________________________________________________\n",
      "batch_normalization_9 (Batch (None, 64)                256       \n",
      "_________________________________________________________________\n",
      "dropout_5 (Dropout)          (None, 64)                0         \n",
      "_________________________________________________________________\n",
      "dense_2 (Dense)              (None, 64)                4160      \n",
      "_________________________________________________________________\n",
      "activation_10 (Activation)   (None, 64)                0         \n",
      "_________________________________________________________________\n",
      "batch_normalization_10 (Batc (None, 64)                256       \n",
      "_________________________________________________________________\n",
      "dropout_6 (Dropout)          (None, 64)                0         \n",
      "_________________________________________________________________\n",
      "dense_3 (Dense)              (None, 7)                 455       \n",
      "_________________________________________________________________\n",
      "activation_11 (Activation)   (None, 7)                 0         \n",
      "=================================================================\n",
      "Total params: 1,328,167\n",
      "Trainable params: 1,325,991\n",
      "Non-trainable params: 2,176\n",
      "_________________________________________________________________\n"
     ]
    }
   ],
   "source": [
    "model.summary()"
   ]
  },
  {
   "cell_type": "code",
   "execution_count": 17,
   "metadata": {},
   "outputs": [],
   "source": [
    "from keras.optimizers import RMSprop\n",
    "\n",
    "model.compile(loss='categorical_crossentropy',\n",
    "              optimizer = RMSprop(lr=0.001),\n",
    "              metrics=['accuracy'])"
   ]
  },
  {
   "cell_type": "code",
   "execution_count": 18,
   "metadata": {},
   "outputs": [
    {
     "name": "stdout",
     "output_type": "stream",
     "text": [
      "Epoch 1/25\n",
      "448/448 [==============================] - 955s 2s/step - loss: 1.4669 - accuracy: 0.4346 - val_loss: 1.3395 - val_accuracy: 0.4926\n",
      "Epoch 2/25\n",
      "448/448 [==============================] - 883s 2s/step - loss: 1.3036 - accuracy: 0.5072 - val_loss: 1.0971 - val_accuracy: 0.5371\n",
      "Epoch 3/25\n",
      "448/448 [==============================] - 566s 1s/step - loss: 1.2160 - accuracy: 0.5447 - val_loss: 1.3655 - val_accuracy: 0.5526\n",
      "Epoch 4/25\n",
      "448/448 [==============================] - 553s 1s/step - loss: 1.1525 - accuracy: 0.5749 - val_loss: 1.0365 - val_accuracy: 0.5783\n",
      "Epoch 5/25\n",
      "448/448 [==============================] - 581s 1s/step - loss: 1.0892 - accuracy: 0.6013 - val_loss: 0.9968 - val_accuracy: 0.5932\n",
      "Epoch 6/25\n",
      "448/448 [==============================] - 553s 1s/step - loss: 1.0240 - accuracy: 0.6278 - val_loss: 0.8856 - val_accuracy: 0.6067\n",
      "Epoch 7/25\n",
      "448/448 [==============================] - 558s 1s/step - loss: 0.9675 - accuracy: 0.6496 - val_loss: 1.2115 - val_accuracy: 0.6023\n",
      "Epoch 8/25\n",
      "448/448 [==============================] - 607s 1s/step - loss: 0.9165 - accuracy: 0.6723 - val_loss: 0.8414 - val_accuracy: 0.6134\n",
      "Epoch 9/25\n",
      "448/448 [==============================] - 630s 1s/step - loss: 0.8656 - accuracy: 0.6942 - val_loss: 1.0902 - val_accuracy: 0.6143\n",
      "Epoch 10/25\n",
      "448/448 [==============================] - 563s 1s/step - loss: 0.8154 - accuracy: 0.7145 - val_loss: 1.0121 - val_accuracy: 0.6288\n",
      "Epoch 11/25\n",
      "448/448 [==============================] - 560s 1s/step - loss: 0.7702 - accuracy: 0.7338 - val_loss: 1.2011 - val_accuracy: 0.6227\n",
      "Epoch 12/25\n",
      "448/448 [==============================] - 554s 1s/step - loss: 0.7284 - accuracy: 0.7528 - val_loss: 1.0205 - val_accuracy: 0.6275\n",
      "Epoch 13/25\n",
      "448/448 [==============================] - 552s 1s/step - loss: 0.6765 - accuracy: 0.7681 - val_loss: 1.0300 - val_accuracy: 0.6352\n",
      "Epoch 14/25\n",
      "448/448 [==============================] - 552s 1s/step - loss: 0.6369 - accuracy: 0.7843 - val_loss: 1.2528 - val_accuracy: 0.6195\n",
      "Epoch 15/25\n",
      "448/448 [==============================] - 551s 1s/step - loss: 0.5975 - accuracy: 0.7966 - val_loss: 1.1270 - val_accuracy: 0.6186\n",
      "Epoch 16/25\n",
      "448/448 [==============================] - 551s 1s/step - loss: 0.5721 - accuracy: 0.8042 - val_loss: 0.9713 - val_accuracy: 0.6241\n",
      "Epoch 17/25\n",
      "448/448 [==============================] - 570s 1s/step - loss: 0.5333 - accuracy: 0.8221 - val_loss: 1.3069 - val_accuracy: 0.6267\n",
      "Epoch 18/25\n",
      "448/448 [==============================] - 562s 1s/step - loss: 0.4976 - accuracy: 0.8353 - val_loss: 1.0557 - val_accuracy: 0.6411\n",
      "Epoch 19/25\n",
      "448/448 [==============================] - 558s 1s/step - loss: 0.4805 - accuracy: 0.8424 - val_loss: 1.1246 - val_accuracy: 0.6333\n",
      "Epoch 20/25\n",
      "448/448 [==============================] - 599s 1s/step - loss: 0.4557 - accuracy: 0.8489 - val_loss: 1.0690 - val_accuracy: 0.6262\n",
      "Epoch 21/25\n",
      "448/448 [==============================] - 610s 1s/step - loss: 0.4307 - accuracy: 0.8568 - val_loss: 1.7513 - val_accuracy: 0.6386\n",
      "Epoch 22/25\n",
      "448/448 [==============================] - 560s 1s/step - loss: 0.4138 - accuracy: 0.8619 - val_loss: 1.3285 - val_accuracy: 0.6383\n",
      "Epoch 23/25\n",
      "448/448 [==============================] - 554s 1s/step - loss: 0.3993 - accuracy: 0.8723 - val_loss: 1.2025 - val_accuracy: 0.6323\n",
      "Epoch 24/25\n",
      "448/448 [==============================] - 551s 1s/step - loss: 0.3729 - accuracy: 0.8748 - val_loss: 1.2708 - val_accuracy: 0.6383\n",
      "Epoch 25/25\n",
      "448/448 [==============================] - 549s 1s/step - loss: 0.3650 - accuracy: 0.8828 - val_loss: 1.3415 - val_accuracy: 0.6406\n"
     ]
    }
   ],
   "source": [
    "nb_train_samples = train_generator.samples\n",
    "nb_validation_samples = validation_generator.samples\n",
    "epochs=25\n",
    "\n",
    "history=model.fit_generator(\n",
    "                train_generator,\n",
    "                steps_per_epoch=nb_train_samples//batch_size,\n",
    "                epochs=epochs,\n",
    "                validation_data = validation_generator,\n",
    "                validation_steps = nb_validation_samples//batch_size)"
   ]
  },
  {
   "cell_type": "code",
   "execution_count": 19,
   "metadata": {},
   "outputs": [],
   "source": [
    "model.save('emorecgwoaug.h5')"
   ]
  },
  {
   "cell_type": "code",
   "execution_count": 21,
   "metadata": {},
   "outputs": [
    {
     "data": {
      "image/png": "[encoded data removed]",
      "text/plain": [
       "<Figure size 432x288 with 1 Axes>"
      ]
     },
     "metadata": {
      "needs_background": "light"
     },
     "output_type": "display_data"
    },
    {
     "data": {
      "image/png": "[encoded data removed]",
      "text/plain": [
       "<Figure size 432x288 with 1 Axes>"
      ]
     },
     "metadata": {
      "needs_background": "light"
     },
     "output_type": "display_data"
    }
   ],
   "source": [
    "from matplotlib import pyplot as plt\n",
    "\n",
    "acc = history.history['accuracy']\n",
    "val_acc = history.history['val_accuracy']\n",
    "loss = history.history['loss']\n",
    "val_loss = history.history['val_loss']\n",
    "\n",
    "\n",
    "ax1 = plt.figure(0)\n",
    "plt.plot(acc,label = 'Train')\n",
    "plt.plot(val_acc, label = 'Validation')\n",
    "plt.xlabel('Epochs ----->')\n",
    "plt.ylabel('Accuracy ----->')\n",
    "leg = ax1.legend()\n",
    "\n",
    "\n",
    "ax2 = plt.figure(1)\n",
    "plt.plot(loss,label = 'Train')\n",
    "plt.plot(val_loss,label = 'Validation')\n",
    "plt.xlabel('Epochs ----->')\n",
    "plt.ylabel('Loss ----->')\n",
    "leg = ax2.legend()"
   ]
  },
  {
   "cell_type": "code",
   "execution_count": 32,
   "metadata": {},
   "outputs": [],
   "source": [
    "import cv2\n",
    "\n",
    "import numpy as np\n",
    "\n",
    "import tensorflow as tf"
   ]
  },
  {
   "cell_type": "code",
   "execution_count": 23,
   "metadata": {},
   "outputs": [],
   "source": [
    "classes = ['angry','disguisted','fearful','happy','neutral','sad','suprised']"
   ]
  },
  {
   "cell_type": "code",
   "execution_count": 69,
   "metadata": {},
   "outputs": [
    {
     "name": "stdout",
     "output_type": "stream",
     "text": [
      "IG shape: (48, 48)\n",
      "IGP Shape:(1, 48, 48, 1)\n",
      "Predicted Emotion is: angry\n"
     ]
    },
    {
     "data": {
      "image/png": "[encoded data removed]",
      "text/plain": [
       "<Figure size 432x288 with 1 Axes>"
      ]
     },
     "metadata": {
      "needs_background": "light"
     },
     "output_type": "display_data"
    }
   ],
   "source": [
    "I1 = cv2.imread('/Users/varun/Documents/Deep_Learning/data/test/angry/im3.png')\n",
    "\n",
    "ID = cv2.cvtColor(I1,cv2.COLOR_BGR2RGB)\n",
    "\n",
    "I1 = cv2.cvtColor(I1,cv2.COLOR_BGR2GRAY)\n",
    "\n",
    "\n",
    "IG = tf.cast(I1, tf.float32)\n",
    "\n",
    "plt.imshow(ID)\n",
    "\n",
    "print(\"IG shape: \" + str(IG.shape))\n",
    "\n",
    "IG = IG/255\n",
    "\n",
    "IGP = np.expand_dims(IG,axis = 0)\n",
    "\n",
    "IGP = np.expand_dims(IGP,axis = 3)\n",
    "\n",
    "print(\"IGP Shape:\" + str(IGP.shape))\n",
    "\n",
    "predictions = model.predict(IGP)\n",
    "\n",
    "index = np.argmax(predictions)\n",
    "\n",
    "print(\"Predicted Emotion is: \" + str(classes[index]))"
   ]
  },
  {
   "cell_type": "code",
   "execution_count": 70,
   "metadata": {},
   "outputs": [
    {
     "name": "stdout",
     "output_type": "stream",
     "text": [
      "IG shape: (48, 48)\n",
      "IGP Shape:(1, 48, 48, 1)\n",
      "Predicted Emotion is: angry\n"
     ]
    },
    {
     "data": {
      "image/png": "[encoded data removed]",
      "text/plain": [
       "<Figure size 432x288 with 1 Axes>"
      ]
     },
     "metadata": {
      "needs_background": "light"
     },
     "output_type": "display_data"
    }
   ],
   "source": [
    "I1 = cv2.imread('/Users/varun/Documents/Deep_Learning/data/test/angry/im0.png')\n",
    "\n",
    "ID = cv2.cvtColor(I1,cv2.COLOR_BGR2RGB)\n",
    "\n",
    "I1 = cv2.cvtColor(I1,cv2.COLOR_BGR2GRAY)\n",
    "\n",
    "\n",
    "IG = tf.cast(I1, tf.float32)\n",
    "\n",
    "plt.imshow(ID)\n",
    "\n",
    "print(\"IG shape: \" + str(IG.shape))\n",
    "\n",
    "IG = IG/255\n",
    "\n",
    "IGP = np.expand_dims(IG,axis = 0)\n",
    "\n",
    "IGP = np.expand_dims(IGP,axis = 3)\n",
    "\n",
    "print(\"IGP Shape:\" + str(IGP.shape))\n",
    "\n",
    "predictions = model.predict(IGP)\n",
    "\n",
    "index = np.argmax(predictions)\n",
    "\n",
    "print(\"Predicted Emotion is: \" + str(classes[index]))"
   ]
  },
  {
   "cell_type": "code",
   "execution_count": 71,
   "metadata": {},
   "outputs": [
    {
     "name": "stdout",
     "output_type": "stream",
     "text": [
      "IG shape: (48, 48)\n",
      "IGP Shape:(1, 48, 48, 1)\n",
      "Predicted Emotion is: angry\n"
     ]
    },
    {
     "data": {
      "image/png": "[encoded data removed]",
      "text/plain": [
       "<Figure size 432x288 with 1 Axes>"
      ]
     },
     "metadata": {
      "needs_background": "light"
     },
     "output_type": "display_data"
    }
   ],
   "source": [
    "I1 = cv2.imread('/Users/varun/Documents/Deep_Learning/data/test/angry/im10.png')\n",
    "\n",
    "ID = cv2.cvtColor(I1,cv2.COLOR_BGR2RGB)\n",
    "\n",
    "I1 = cv2.cvtColor(I1,cv2.COLOR_BGR2GRAY)\n",
    "\n",
    "\n",
    "IG = tf.cast(I1, tf.float32)\n",
    "\n",
    "plt.imshow(ID)\n",
    "\n",
    "print(\"IG shape: \" + str(IG.shape))\n",
    "\n",
    "IG = IG/255\n",
    "\n",
    "IGP = np.expand_dims(IG,axis = 0)\n",
    "\n",
    "IGP = np.expand_dims(IGP,axis = 3)\n",
    "\n",
    "print(\"IGP Shape:\" + str(IGP.shape))\n",
    "\n",
    "predictions = model.predict(IGP)\n",
    "\n",
    "index = np.argmax(predictions)\n",
    "\n",
    "print(\"Predicted Emotion is: \" + str(classes[index]))"
   ]
  },
  {
   "cell_type": "code",
   "execution_count": 72,
   "metadata": {},
   "outputs": [
    {
     "name": "stdout",
     "output_type": "stream",
     "text": [
      "IG shape: (48, 48)\n",
      "IGP Shape:(1, 48, 48, 1)\n",
      "Predicted Emotion is: angry\n"
     ]
    },
    {
     "data": {
      "image/png": "[encoded data removed]",
      "text/plain": [
       "<Figure size 432x288 with 1 Axes>"
      ]
     },
     "metadata": {
      "needs_background": "light"
     },
     "output_type": "display_data"
    }
   ],
   "source": [
    "I1 = cv2.imread('/Users/varun/Documents/Deep_Learning/data/test/angry/im123.png')\n",
    "\n",
    "ID = cv2.cvtColor(I1,cv2.COLOR_BGR2RGB)\n",
    "\n",
    "I1 = cv2.cvtColor(I1,cv2.COLOR_BGR2GRAY)\n",
    "\n",
    "\n",
    "IG = tf.cast(I1, tf.float32)\n",
    "\n",
    "plt.imshow(ID)\n",
    "\n",
    "print(\"IG shape: \" + str(IG.shape))\n",
    "\n",
    "IG = IG/255\n",
    "\n",
    "IGP = np.expand_dims(IG,axis = 0)\n",
    "\n",
    "IGP = np.expand_dims(IGP,axis = 3)\n",
    "\n",
    "print(\"IGP Shape:\" + str(IGP.shape))\n",
    "\n",
    "predictions = model.predict(IGP)\n",
    "\n",
    "index = np.argmax(predictions)\n",
    "\n",
    "print(\"Predicted Emotion is: \" + str(classes[index]))"
   ]
  },
  {
   "cell_type": "code",
   "execution_count": 78,
   "metadata": {},
   "outputs": [
    {
     "name": "stdout",
     "output_type": "stream",
     "text": [
      "IG shape: (48, 48)\n",
      "IGP Shape:(1, 48, 48, 1)\n",
      "Predicted Emotion is: disguisted\n"
     ]
    },
    {
     "data": {
      "image/png": "[encoded data removed]",
      "text/plain": [
       "<Figure size 432x288 with 1 Axes>"
      ]
     },
     "metadata": {
      "needs_background": "light"
     },
     "output_type": "display_data"
    }
   ],
   "source": [
    "\n",
    "I1 = cv2.imread('/Users/varun/Documents/Deep_Learning/data/test/disgusted/im5.png')\n",
    "\n",
    "ID = cv2.cvtColor(I1,cv2.COLOR_BGR2RGB)\n",
    "\n",
    "I1 = cv2.cvtColor(I1,cv2.COLOR_BGR2GRAY)\n",
    "\n",
    "\n",
    "IG = tf.cast(I1, tf.float32)\n",
    "\n",
    "plt.imshow(ID)\n",
    "\n",
    "print(\"IG shape: \" + str(IG.shape))\n",
    "\n",
    "IG = IG/255\n",
    "\n",
    "IGP = np.expand_dims(IG,axis = 0)\n",
    "\n",
    "IGP = np.expand_dims(IGP,axis = 3)\n",
    "\n",
    "print(\"IGP Shape:\" + str(IGP.shape))\n",
    "\n",
    "predictions = model.predict(IGP)\n",
    "\n",
    "index = np.argmax(predictions)\n",
    "\n",
    "print(\"Predicted Emotion is: \" + str(classes[index]))"
   ]
  },
  {
   "cell_type": "code",
   "execution_count": 79,
   "metadata": {},
   "outputs": [
    {
     "name": "stdout",
     "output_type": "stream",
     "text": [
      "IG shape: (48, 48)\n",
      "IGP Shape:(1, 48, 48, 1)\n",
      "Predicted Emotion is: happy\n"
     ]
    },
    {
     "data": {
      "image/png": "[encoded data removed]",
      "text/plain": [
       "<Figure size 432x288 with 1 Axes>"
      ]
     },
     "metadata": {
      "needs_background": "light"
     },
     "output_type": "display_data"
    }
   ],
   "source": [
    "\n",
    "I1 = cv2.imread('/Users/varun/Documents/Deep_Learning/data/test/happy/im5.png')\n",
    "\n",
    "ID = cv2.cvtColor(I1,cv2.COLOR_BGR2RGB)\n",
    "\n",
    "I1 = cv2.cvtColor(I1,cv2.COLOR_BGR2GRAY)\n",
    "\n",
    "\n",
    "IG = tf.cast(I1, tf.float32)\n",
    "\n",
    "plt.imshow(ID)\n",
    "\n",
    "print(\"IG shape: \" + str(IG.shape))\n",
    "\n",
    "IG = IG/255\n",
    "\n",
    "IGP = np.expand_dims(IG,axis = 0)\n",
    "\n",
    "IGP = np.expand_dims(IGP,axis = 3)\n",
    "\n",
    "print(\"IGP Shape:\" + str(IGP.shape))\n",
    "\n",
    "predictions = model.predict(IGP)\n",
    "\n",
    "index = np.argmax(predictions)\n",
    "\n",
    "print(\"Predicted Emotion is: \" + str(classes[index]))"
   ]
  },
  {
   "cell_type": "code",
   "execution_count": 80,
   "metadata": {},
   "outputs": [
    {
     "name": "stdout",
     "output_type": "stream",
     "text": [
      "IG shape: (48, 48)\n",
      "IGP Shape:(1, 48, 48, 1)\n",
      "Predicted Emotion is: happy\n"
     ]
    },
    {
     "data": {
      "image/png": "[encoded data removed]",
      "text/plain": [
       "<Figure size 432x288 with 1 Axes>"
      ]
     },
     "metadata": {
      "needs_background": "light"
     },
     "output_type": "display_data"
    }
   ],
   "source": [
    "\n",
    "\n",
    "I1 = cv2.imread('/Users/varun/Documents/Deep_Learning/data/test/happy/im516.png')\n",
    "\n",
    "ID = cv2.cvtColor(I1,cv2.COLOR_BGR2RGB)\n",
    "\n",
    "I1 = cv2.cvtColor(I1,cv2.COLOR_BGR2GRAY)\n",
    "\n",
    "\n",
    "IG = tf.cast(I1, tf.float32)\n",
    "\n",
    "plt.imshow(ID)\n",
    "\n",
    "print(\"IG shape: \" + str(IG.shape))\n",
    "\n",
    "IG = IG/255\n",
    "\n",
    "IGP = np.expand_dims(IG,axis = 0)\n",
    "\n",
    "IGP = np.expand_dims(IGP,axis = 3)\n",
    "\n",
    "print(\"IGP Shape:\" + str(IGP.shape))\n",
    "\n",
    "predictions = model.predict(IGP)\n",
    "\n",
    "index = np.argmax(predictions)\n",
    "\n",
    "print(\"Predicted Emotion is: \" + str(classes[index]))"
   ]
  },
  {
   "cell_type": "code",
   "execution_count": 81,
   "metadata": {},
   "outputs": [
    {
     "name": "stdout",
     "output_type": "stream",
     "text": [
      "IG shape: (48, 48)\n",
      "IGP Shape:(1, 48, 48, 1)\n",
      "Predicted Emotion is: happy\n"
     ]
    },
    {
     "data": {
      "image/png": "[encoded data removed]",
      "text/plain": [
       "<Figure size 432x288 with 1 Axes>"
      ]
     },
     "metadata": {
      "needs_background": "light"
     },
     "output_type": "display_data"
    }
   ],
   "source": [
    "\n",
    "\n",
    "I1 = cv2.imread('/Users/varun/Documents/Deep_Learning/data/test/happy/im312.png')\n",
    "\n",
    "ID = cv2.cvtColor(I1,cv2.COLOR_BGR2RGB)\n",
    "\n",
    "I1 = cv2.cvtColor(I1,cv2.COLOR_BGR2GRAY)\n",
    "\n",
    "\n",
    "IG = tf.cast(I1, tf.float32)\n",
    "\n",
    "plt.imshow(ID)\n",
    "\n",
    "print(\"IG shape: \" + str(IG.shape))\n",
    "\n",
    "IG = IG/255\n",
    "\n",
    "IGP = np.expand_dims(IG,axis = 0)\n",
    "\n",
    "IGP = np.expand_dims(IGP,axis = 3)\n",
    "\n",
    "print(\"IGP Shape:\" + str(IGP.shape))\n",
    "\n",
    "predictions = model.predict(IGP)\n",
    "\n",
    "index = np.argmax(predictions)\n",
    "\n",
    "print(\"Predicted Emotion is: \" + str(classes[index]))"
   ]
  },
  {
   "cell_type": "code",
   "execution_count": 82,
   "metadata": {},
   "outputs": [
    {
     "name": "stdout",
     "output_type": "stream",
     "text": [
      "IG shape: (48, 48)\n",
      "IGP Shape:(1, 48, 48, 1)\n",
      "Predicted Emotion is: happy\n"
     ]
    },
    {
     "data": {
      "image/png": "[encoded data removed]",
      "text/plain": [
       "<Figure size 432x288 with 1 Axes>"
      ]
     },
     "metadata": {
      "needs_background": "light"
     },
     "output_type": "display_data"
    }
   ],
   "source": [
    "\n",
    "I1 = cv2.imread('/Users/varun/Documents/Deep_Learning/data/test/happy/im500.png')\n",
    "\n",
    "ID = cv2.cvtColor(I1,cv2.COLOR_BGR2RGB)\n",
    "\n",
    "I1 = cv2.cvtColor(I1,cv2.COLOR_BGR2GRAY)\n",
    "\n",
    "\n",
    "IG = tf.cast(I1, tf.float32)\n",
    "\n",
    "plt.imshow(ID)\n",
    "\n",
    "print(\"IG shape: \" + str(IG.shape))\n",
    "\n",
    "IG = IG/255\n",
    "\n",
    "IGP = np.expand_dims(IG,axis = 0)\n",
    "\n",
    "IGP = np.expand_dims(IGP,axis = 3)\n",
    "\n",
    "print(\"IGP Shape:\" + str(IGP.shape))\n",
    "\n",
    "predictions = model.predict(IGP)\n",
    "\n",
    "index = np.argmax(predictions)\n",
    "\n",
    "print(\"Predicted Emotion is: \" + str(classes[index]))"
   ]
  },
  {
   "cell_type": "code",
   "execution_count": 83,
   "metadata": {},
   "outputs": [
    {
     "name": "stdout",
     "output_type": "stream",
     "text": [
      "IG shape: (48, 48)\n",
      "IGP Shape:(1, 48, 48, 1)\n",
      "Predicted Emotion is: sad\n"
     ]
    },
    {
     "data": {
      "image/png": "[encoded data removed]",
      "text/plain": [
       "<Figure size 432x288 with 1 Axes>"
      ]
     },
     "metadata": {
      "needs_background": "light"
     },
     "output_type": "display_data"
    }
   ],
   "source": [
    "#Failed\n",
    "\n",
    "\n",
    "I1 = cv2.imread('/Users/varun/Documents/Deep_Learning/data/test/fearful/im1.png')\n",
    "\n",
    "ID = cv2.cvtColor(I1,cv2.COLOR_BGR2RGB)\n",
    "\n",
    "I1 = cv2.cvtColor(I1,cv2.COLOR_BGR2GRAY)\n",
    "\n",
    "\n",
    "IG = tf.cast(I1, tf.float32)\n",
    "\n",
    "plt.imshow(ID)\n",
    "\n",
    "print(\"IG shape: \" + str(IG.shape))\n",
    "\n",
    "IG = IG/255\n",
    "\n",
    "IGP = np.expand_dims(IG,axis = 0)\n",
    "\n",
    "IGP = np.expand_dims(IGP,axis = 3)\n",
    "\n",
    "print(\"IGP Shape:\" + str(IGP.shape))\n",
    "\n",
    "predictions = model.predict(IGP)\n",
    "\n",
    "index = np.argmax(predictions)\n",
    "\n",
    "print(\"Predicted Emotion is: \" + str(classes[index]))"
   ]
  },
  {
   "cell_type": "code",
   "execution_count": 84,
   "metadata": {},
   "outputs": [
    {
     "name": "stdout",
     "output_type": "stream",
     "text": [
      "IG shape: (48, 48)\n",
      "IGP Shape:(1, 48, 48, 1)\n",
      "Predicted Emotion is: fearful\n"
     ]
    },
    {
     "data": {
      "image/png": "[encoded data removed]",
      "text/plain": [
       "<Figure size 432x288 with 1 Axes>"
      ]
     },
     "metadata": {
      "needs_background": "light"
     },
     "output_type": "display_data"
    }
   ],
   "source": [
    "\n",
    "I1 = cv2.imread('/Users/varun/Documents/Deep_Learning/data/test/fearful/im0.png')\n",
    "\n",
    "ID = cv2.cvtColor(I1,cv2.COLOR_BGR2RGB)\n",
    "\n",
    "I1 = cv2.cvtColor(I1,cv2.COLOR_BGR2GRAY)\n",
    "\n",
    "\n",
    "IG = tf.cast(I1, tf.float32)\n",
    "\n",
    "plt.imshow(ID)\n",
    "\n",
    "print(\"IG shape: \" + str(IG.shape))\n",
    "\n",
    "IG = IG/255\n",
    "\n",
    "IGP = np.expand_dims(IG,axis = 0)\n",
    "\n",
    "IGP = np.expand_dims(IGP,axis = 3)\n",
    "\n",
    "print(\"IGP Shape:\" + str(IGP.shape))\n",
    "\n",
    "predictions = model.predict(IGP)\n",
    "\n",
    "index = np.argmax(predictions)\n",
    "\n",
    "print(\"Predicted Emotion is: \" + str(classes[index]))"
   ]
  },
  {
   "cell_type": "code",
   "execution_count": 85,
   "metadata": {},
   "outputs": [
    {
     "name": "stdout",
     "output_type": "stream",
     "text": [
      "IG shape: (48, 48)\n",
      "IGP Shape:(1, 48, 48, 1)\n",
      "Predicted Emotion is: fearful\n"
     ]
    },
    {
     "data": {
      "image/png": "[encoded data removed]",
      "text/plain": [
       "<Figure size 432x288 with 1 Axes>"
      ]
     },
     "metadata": {
      "needs_background": "light"
     },
     "output_type": "display_data"
    }
   ],
   "source": [
    "\n",
    "I1 = cv2.imread('/Users/varun/Documents/Deep_Learning/data/test/fearful/im10.png')\n",
    "\n",
    "ID = cv2.cvtColor(I1,cv2.COLOR_BGR2RGB)\n",
    "\n",
    "I1 = cv2.cvtColor(I1,cv2.COLOR_BGR2GRAY)\n",
    "\n",
    "\n",
    "IG = tf.cast(I1, tf.float32)\n",
    "\n",
    "plt.imshow(ID)\n",
    "\n",
    "print(\"IG shape: \" + str(IG.shape))\n",
    "\n",
    "IG = IG/255\n",
    "\n",
    "IGP = np.expand_dims(IG,axis = 0)\n",
    "\n",
    "IGP = np.expand_dims(IGP,axis = 3)\n",
    "\n",
    "print(\"IGP Shape:\" + str(IGP.shape))\n",
    "\n",
    "predictions = model.predict(IGP)\n",
    "\n",
    "index = np.argmax(predictions)\n",
    "\n",
    "print(\"Predicted Emotion is: \" + str(classes[index]))"
   ]
  },
  {
   "cell_type": "code",
   "execution_count": 86,
   "metadata": {},
   "outputs": [
    {
     "name": "stdout",
     "output_type": "stream",
     "text": [
      "IG shape: (48, 48)\n",
      "IGP Shape:(1, 48, 48, 1)\n",
      "Predicted Emotion is: fearful\n"
     ]
    },
    {
     "data": {
      "image/png": "[encoded data removed]",
      "text/plain": [
       "<Figure size 432x288 with 1 Axes>"
      ]
     },
     "metadata": {
      "needs_background": "light"
     },
     "output_type": "display_data"
    }
   ],
   "source": [
    "\n",
    "I1 = cv2.imread('/Users/varun/Documents/Deep_Learning/data/test/fearful/im24.png')\n",
    "\n",
    "ID = cv2.cvtColor(I1,cv2.COLOR_BGR2RGB)\n",
    "\n",
    "I1 = cv2.cvtColor(I1,cv2.COLOR_BGR2GRAY)\n",
    "\n",
    "\n",
    "IG = tf.cast(I1, tf.float32)\n",
    "\n",
    "plt.imshow(ID)\n",
    "\n",
    "print(\"IG shape: \" + str(IG.shape))\n",
    "\n",
    "IG = IG/255\n",
    "\n",
    "IGP = np.expand_dims(IG,axis = 0)\n",
    "\n",
    "IGP = np.expand_dims(IGP,axis = 3)\n",
    "\n",
    "print(\"IGP Shape:\" + str(IGP.shape))\n",
    "\n",
    "predictions = model.predict(IGP)\n",
    "\n",
    "index = np.argmax(predictions)\n",
    "\n",
    "print(\"Predicted Emotion is: \" + str(classes[index]))"
   ]
  },
  {
   "cell_type": "code",
   "execution_count": 88,
   "metadata": {},
   "outputs": [
    {
     "name": "stdout",
     "output_type": "stream",
     "text": [
      "IG shape: (48, 48)\n",
      "IGP Shape:(1, 48, 48, 1)\n",
      "Predicted Emotion is: angry\n"
     ]
    },
    {
     "data": {
      "image/png": "[encoded data removed]",
      "text/plain": [
       "<Figure size 432x288 with 1 Axes>"
      ]
     },
     "metadata": {
      "needs_background": "light"
     },
     "output_type": "display_data"
    }
   ],
   "source": [
    "#Failed\n",
    "\n",
    "\n",
    "I1 = cv2.imread('/Users/varun/Documents/Deep_Learning/data/test/sad/im0.png')\n",
    "\n",
    "ID = cv2.cvtColor(I1,cv2.COLOR_BGR2RGB)\n",
    "\n",
    "I1 = cv2.cvtColor(I1,cv2.COLOR_BGR2GRAY)\n",
    "\n",
    "\n",
    "IG = tf.cast(I1, tf.float32)\n",
    "\n",
    "plt.imshow(ID)\n",
    "\n",
    "print(\"IG shape: \" + str(IG.shape))\n",
    "\n",
    "IG = IG/255\n",
    "\n",
    "IGP = np.expand_dims(IG,axis = 0)\n",
    "\n",
    "IGP = np.expand_dims(IGP,axis = 3)\n",
    "\n",
    "print(\"IGP Shape:\" + str(IGP.shape))\n",
    "\n",
    "predictions = model.predict(IGP)\n",
    "\n",
    "index = np.argmax(predictions)\n",
    "\n",
    "print(\"Predicted Emotion is: \" + str(classes[index]))"
   ]
  },
  {
   "cell_type": "code",
   "execution_count": 90,
   "metadata": {},
   "outputs": [
    {
     "name": "stdout",
     "output_type": "stream",
     "text": [
      "IG shape: (48, 48)\n",
      "IGP Shape:(1, 48, 48, 1)\n",
      "Predicted Emotion is: fearful\n"
     ]
    },
    {
     "data": {
      "image/png": "[encoded data removed]",
      "text/plain": [
       "<Figure size 432x288 with 1 Axes>"
      ]
     },
     "metadata": {
      "needs_background": "light"
     },
     "output_type": "display_data"
    }
   ],
   "source": [
    "#Failed\n",
    "\n",
    "\n",
    "I1 = cv2.imread('/Users/varun/Documents/Deep_Learning/data/test/sad/im10.png')\n",
    "\n",
    "ID = cv2.cvtColor(I1,cv2.COLOR_BGR2RGB)\n",
    "\n",
    "I1 = cv2.cvtColor(I1,cv2.COLOR_BGR2GRAY)\n",
    "\n",
    "\n",
    "IG = tf.cast(I1, tf.float32)\n",
    "\n",
    "plt.imshow(ID)\n",
    "\n",
    "print(\"IG shape: \" + str(IG.shape))\n",
    "\n",
    "IG = IG/255\n",
    "\n",
    "IGP = np.expand_dims(IG,axis = 0)\n",
    "\n",
    "IGP = np.expand_dims(IGP,axis = 3)\n",
    "\n",
    "print(\"IGP Shape:\" + str(IGP.shape))\n",
    "\n",
    "predictions = model.predict(IGP)\n",
    "\n",
    "index = np.argmax(predictions)\n",
    "\n",
    "print(\"Predicted Emotion is: \" + str(classes[index]))"
   ]
  },
  {
   "cell_type": "code",
   "execution_count": 92,
   "metadata": {},
   "outputs": [
    {
     "name": "stdout",
     "output_type": "stream",
     "text": [
      "IG shape: (48, 48)\n",
      "IGP Shape:(1, 48, 48, 1)\n",
      "Predicted Emotion is: sad\n"
     ]
    },
    {
     "data": {
      "image/png": "[encoded data removed]",
      "text/plain": [
       "<Figure size 432x288 with 1 Axes>"
      ]
     },
     "metadata": {
      "needs_background": "light"
     },
     "output_type": "display_data"
    }
   ],
   "source": [
    "\n",
    "I1 = cv2.imread('/Users/varun/Documents/Deep_Learning/data/test/sad/im100.png')\n",
    "\n",
    "ID = cv2.cvtColor(I1,cv2.COLOR_BGR2RGB)\n",
    "\n",
    "I1 = cv2.cvtColor(I1,cv2.COLOR_BGR2GRAY)\n",
    "\n",
    "\n",
    "IG = tf.cast(I1, tf.float32)\n",
    "\n",
    "plt.imshow(ID)\n",
    "\n",
    "print(\"IG shape: \" + str(IG.shape))\n",
    "\n",
    "IG = IG/255\n",
    "\n",
    "IGP = np.expand_dims(IG,axis = 0)\n",
    "\n",
    "IGP = np.expand_dims(IGP,axis = 3)\n",
    "\n",
    "print(\"IGP Shape:\" + str(IGP.shape))\n",
    "\n",
    "predictions = model.predict(IGP)\n",
    "\n",
    "index = np.argmax(predictions)\n",
    "\n",
    "print(\"Predicted Emotion is: \" + str(classes[index]))"
   ]
  },
  {
   "cell_type": "code",
   "execution_count": 93,
   "metadata": {},
   "outputs": [
    {
     "name": "stdout",
     "output_type": "stream",
     "text": [
      "IG shape: (48, 48)\n",
      "IGP Shape:(1, 48, 48, 1)\n",
      "Predicted Emotion is: sad\n"
     ]
    },
    {
     "data": {
      "image/png": "[encoded data removed]",
      "text/plain": [
       "<Figure size 432x288 with 1 Axes>"
      ]
     },
     "metadata": {
      "needs_background": "light"
     },
     "output_type": "display_data"
    }
   ],
   "source": [
    "\n",
    "I1 = cv2.imread('/Users/varun/Documents/Deep_Learning/data/test/sad/im20.png')\n",
    "\n",
    "ID = cv2.cvtColor(I1,cv2.COLOR_BGR2RGB)\n",
    "\n",
    "I1 = cv2.cvtColor(I1,cv2.COLOR_BGR2GRAY)\n",
    "\n",
    "\n",
    "IG = tf.cast(I1, tf.float32)\n",
    "\n",
    "plt.imshow(ID)\n",
    "\n",
    "print(\"IG shape: \" + str(IG.shape))\n",
    "\n",
    "IG = IG/255\n",
    "\n",
    "IGP = np.expand_dims(IG,axis = 0)\n",
    "\n",
    "IGP = np.expand_dims(IGP,axis = 3)\n",
    "\n",
    "print(\"IGP Shape:\" + str(IGP.shape))\n",
    "\n",
    "predictions = model.predict(IGP)\n",
    "\n",
    "index = np.argmax(predictions)\n",
    "\n",
    "print(\"Predicted Emotion is: \" + str(classes[index]))"
   ]
  },
  {
   "cell_type": "code",
   "execution_count": 94,
   "metadata": {},
   "outputs": [
    {
     "name": "stdout",
     "output_type": "stream",
     "text": [
      "IG shape: (48, 48)\n",
      "IGP Shape:(1, 48, 48, 1)\n",
      "Predicted Emotion is: neutral\n"
     ]
    },
    {
     "data": {
      "image/png": "[encoded data removed]",
      "text/plain": [
       "<Figure size 432x288 with 1 Axes>"
      ]
     },
     "metadata": {
      "needs_background": "light"
     },
     "output_type": "display_data"
    }
   ],
   "source": [
    "#Failed\n",
    "\n",
    "I1 = cv2.imread('/Users/varun/Documents/Deep_Learning/data/test/sad/im110.png')\n",
    "\n",
    "ID = cv2.cvtColor(I1,cv2.COLOR_BGR2RGB)\n",
    "\n",
    "I1 = cv2.cvtColor(I1,cv2.COLOR_BGR2GRAY)\n",
    "\n",
    "\n",
    "IG = tf.cast(I1, tf.float32)\n",
    "\n",
    "plt.imshow(ID)\n",
    "\n",
    "print(\"IG shape: \" + str(IG.shape))\n",
    "\n",
    "IG = IG/255\n",
    "\n",
    "IGP = np.expand_dims(IG,axis = 0)\n",
    "\n",
    "IGP = np.expand_dims(IGP,axis = 3)\n",
    "\n",
    "print(\"IGP Shape:\" + str(IGP.shape))\n",
    "\n",
    "predictions = model.predict(IGP)\n",
    "\n",
    "index = np.argmax(predictions)\n",
    "\n",
    "print(\"Predicted Emotion is: \" + str(classes[index]))"
   ]
  },
  {
   "cell_type": "code",
   "execution_count": 95,
   "metadata": {},
   "outputs": [
    {
     "name": "stdout",
     "output_type": "stream",
     "text": [
      "IG shape: (48, 48)\n",
      "IGP Shape:(1, 48, 48, 1)\n",
      "Predicted Emotion is: sad\n"
     ]
    },
    {
     "data": {
      "image/png": "[encoded data removed]",
      "text/plain": [
       "<Figure size 432x288 with 1 Axes>"
      ]
     },
     "metadata": {
      "needs_background": "light"
     },
     "output_type": "display_data"
    }
   ],
   "source": [
    "\n",
    "I1 = cv2.imread('/Users/varun/Documents/Deep_Learning/data/test/sad/im40.png')\n",
    "\n",
    "ID = cv2.cvtColor(I1,cv2.COLOR_BGR2RGB)\n",
    "\n",
    "I1 = cv2.cvtColor(I1,cv2.COLOR_BGR2GRAY)\n",
    "\n",
    "\n",
    "IG = tf.cast(I1, tf.float32)\n",
    "\n",
    "plt.imshow(ID)\n",
    "\n",
    "print(\"IG shape: \" + str(IG.shape))\n",
    "\n",
    "IG = IG/255\n",
    "\n",
    "IGP = np.expand_dims(IG,axis = 0)\n",
    "\n",
    "IGP = np.expand_dims(IGP,axis = 3)\n",
    "\n",
    "print(\"IGP Shape:\" + str(IGP.shape))\n",
    "\n",
    "predictions = model.predict(IGP)\n",
    "\n",
    "index = np.argmax(predictions)\n",
    "\n",
    "print(\"Predicted Emotion is: \" + str(classes[index]))"
   ]
  },
  {
   "cell_type": "code",
   "execution_count": 96,
   "metadata": {},
   "outputs": [
    {
     "name": "stdout",
     "output_type": "stream",
     "text": [
      "IG shape: (48, 48)\n",
      "IGP Shape:(1, 48, 48, 1)\n",
      "Predicted Emotion is: suprised\n"
     ]
    },
    {
     "data": {
      "image/png": "[encoded data removed]",
      "text/plain": [
       "<Figure size 432x288 with 1 Axes>"
      ]
     },
     "metadata": {
      "needs_background": "light"
     },
     "output_type": "display_data"
    }
   ],
   "source": [
    "\n",
    "I1 = cv2.imread('/Users/varun/Documents/Deep_Learning/data/test/surprised/im0.png')\n",
    "\n",
    "ID = cv2.cvtColor(I1,cv2.COLOR_BGR2RGB)\n",
    "\n",
    "I1 = cv2.cvtColor(I1,cv2.COLOR_BGR2GRAY)\n",
    "\n",
    "\n",
    "IG = tf.cast(I1, tf.float32)\n",
    "\n",
    "plt.imshow(ID)\n",
    "\n",
    "print(\"IG shape: \" + str(IG.shape))\n",
    "\n",
    "IG = IG/255\n",
    "\n",
    "IGP = np.expand_dims(IG,axis = 0)\n",
    "\n",
    "IGP = np.expand_dims(IGP,axis = 3)\n",
    "\n",
    "print(\"IGP Shape:\" + str(IGP.shape))\n",
    "\n",
    "predictions = model.predict(IGP)\n",
    "\n",
    "index = np.argmax(predictions)\n",
    "\n",
    "print(\"Predicted Emotion is: \" + str(classes[index]))"
   ]
  },
  {
   "cell_type": "code",
   "execution_count": 97,
   "metadata": {},
   "outputs": [
    {
     "name": "stdout",
     "output_type": "stream",
     "text": [
      "IG shape: (48, 48)\n",
      "IGP Shape:(1, 48, 48, 1)\n",
      "Predicted Emotion is: suprised\n"
     ]
    },
    {
     "data": {
      "image/png": "[encoded data removed]",
      "text/plain": [
       "<Figure size 432x288 with 1 Axes>"
      ]
     },
     "metadata": {
      "needs_background": "light"
     },
     "output_type": "display_data"
    }
   ],
   "source": [
    "\n",
    "I1 = cv2.imread('/Users/varun/Documents/Deep_Learning/data/test/surprised/im10.png')\n",
    "\n",
    "ID = cv2.cvtColor(I1,cv2.COLOR_BGR2RGB)\n",
    "\n",
    "I1 = cv2.cvtColor(I1,cv2.COLOR_BGR2GRAY)\n",
    "\n",
    "\n",
    "IG = tf.cast(I1, tf.float32)\n",
    "\n",
    "plt.imshow(ID)\n",
    "\n",
    "print(\"IG shape: \" + str(IG.shape))\n",
    "\n",
    "IG = IG/255\n",
    "\n",
    "IGP = np.expand_dims(IG,axis = 0)\n",
    "\n",
    "IGP = np.expand_dims(IGP,axis = 3)\n",
    "\n",
    "print(\"IGP Shape:\" + str(IGP.shape))\n",
    "\n",
    "predictions = model.predict(IGP)\n",
    "\n",
    "index = np.argmax(predictions)\n",
    "\n",
    "print(\"Predicted Emotion is: \" + str(classes[index]))"
   ]
  },
  {
   "cell_type": "code",
   "execution_count": 98,
   "metadata": {},
   "outputs": [
    {
     "name": "stdout",
     "output_type": "stream",
     "text": [
      "IG shape: (48, 48)\n",
      "IGP Shape:(1, 48, 48, 1)\n",
      "Predicted Emotion is: suprised\n"
     ]
    },
    {
     "data": {
      "image/png": "[encoded data removed]",
      "text/plain": [
       "<Figure size 432x288 with 1 Axes>"
      ]
     },
     "metadata": {
      "needs_background": "light"
     },
     "output_type": "display_data"
    }
   ],
   "source": [
    "\n",
    "I1 = cv2.imread('/Users/varun/Documents/Deep_Learning/data/test/surprised/im100.png')\n",
    "\n",
    "ID = cv2.cvtColor(I1,cv2.COLOR_BGR2RGB)\n",
    "\n",
    "I1 = cv2.cvtColor(I1,cv2.COLOR_BGR2GRAY)\n",
    "\n",
    "\n",
    "IG = tf.cast(I1, tf.float32)\n",
    "\n",
    "plt.imshow(ID)\n",
    "\n",
    "print(\"IG shape: \" + str(IG.shape))\n",
    "\n",
    "IG = IG/255\n",
    "\n",
    "IGP = np.expand_dims(IG,axis = 0)\n",
    "\n",
    "IGP = np.expand_dims(IGP,axis = 3)\n",
    "\n",
    "print(\"IGP Shape:\" + str(IGP.shape))\n",
    "\n",
    "predictions = model.predict(IGP)\n",
    "\n",
    "index = np.argmax(predictions)\n",
    "\n",
    "print(\"Predicted Emotion is: \" + str(classes[index]))"
   ]
  },
  {
   "cell_type": "code",
   "execution_count": 99,
   "metadata": {},
   "outputs": [
    {
     "name": "stdout",
     "output_type": "stream",
     "text": [
      "IG shape: (48, 48)\n",
      "IGP Shape:(1, 48, 48, 1)\n",
      "Predicted Emotion is: suprised\n"
     ]
    },
    {
     "data": {
      "image/png": "[encoded data removed]",
      "text/plain": [
       "<Figure size 432x288 with 1 Axes>"
      ]
     },
     "metadata": {
      "needs_background": "light"
     },
     "output_type": "display_data"
    }
   ],
   "source": [
    "\n",
    "I1 = cv2.imread('/Users/varun/Documents/Deep_Learning/data/test/surprised/im20.png')\n",
    "\n",
    "ID = cv2.cvtColor(I1,cv2.COLOR_BGR2RGB)\n",
    "\n",
    "I1 = cv2.cvtColor(I1,cv2.COLOR_BGR2GRAY)\n",
    "\n",
    "\n",
    "IG = tf.cast(I1, tf.float32)\n",
    "\n",
    "plt.imshow(ID)\n",
    "\n",
    "print(\"IG shape: \" + str(IG.shape))\n",
    "\n",
    "IG = IG/255\n",
    "\n",
    "IGP = np.expand_dims(IG,axis = 0)\n",
    "\n",
    "IGP = np.expand_dims(IGP,axis = 3)\n",
    "\n",
    "print(\"IGP Shape:\" + str(IGP.shape))\n",
    "\n",
    "predictions = model.predict(IGP)\n",
    "\n",
    "index = np.argmax(predictions)\n",
    "\n",
    "print(\"Predicted Emotion is: \" + str(classes[index]))"
   ]
  },
  {
   "cell_type": "code",
   "execution_count": 101,
   "metadata": {},
   "outputs": [
    {
     "name": "stdout",
     "output_type": "stream",
     "text": [
      "IG shape: (48, 48)\n",
      "IGP Shape:(1, 48, 48, 1)\n",
      "Predicted Emotion is: fearful\n"
     ]
    },
    {
     "data": {
      "image/png": "[encoded data removed]",
      "text/plain": [
       "<Figure size 432x288 with 1 Axes>"
      ]
     },
     "metadata": {
      "needs_background": "light"
     },
     "output_type": "display_data"
    }
   ],
   "source": [
    "#Failed\n",
    "\n",
    "I1 = cv2.imread('/Users/varun/Documents/Deep_Learning/data/test/neutral/im0.png')\n",
    "\n",
    "ID = cv2.cvtColor(I1,cv2.COLOR_BGR2RGB)\n",
    "\n",
    "I1 = cv2.cvtColor(I1,cv2.COLOR_BGR2GRAY)\n",
    "\n",
    "\n",
    "IG = tf.cast(I1, tf.float32)\n",
    "\n",
    "plt.imshow(ID)\n",
    "\n",
    "print(\"IG shape: \" + str(IG.shape))\n",
    "\n",
    "IG = IG/255\n",
    "\n",
    "IGP = np.expand_dims(IG,axis = 0)\n",
    "\n",
    "IGP = np.expand_dims(IGP,axis = 3)\n",
    "\n",
    "print(\"IGP Shape:\" + str(IGP.shape))\n",
    "\n",
    "predictions = model.predict(IGP)\n",
    "\n",
    "index = np.argmax(predictions)\n",
    "\n",
    "print(\"Predicted Emotion is: \" + str(classes[index]))"
   ]
  },
  {
   "cell_type": "code",
   "execution_count": 103,
   "metadata": {},
   "outputs": [
    {
     "name": "stdout",
     "output_type": "stream",
     "text": [
      "IG shape: (48, 48)\n",
      "IGP Shape:(1, 48, 48, 1)\n",
      "Predicted Emotion is: neutral\n"
     ]
    },
    {
     "data": {
      "image/png": "[encoded data removed]",
      "text/plain": [
       "<Figure size 432x288 with 1 Axes>"
      ]
     },
     "metadata": {
      "needs_background": "light"
     },
     "output_type": "display_data"
    }
   ],
   "source": [
    "\n",
    "I1 = cv2.imread('/Users/varun/Documents/Deep_Learning/data/test/neutral/im100.png')\n",
    "\n",
    "ID = cv2.cvtColor(I1,cv2.COLOR_BGR2RGB)\n",
    "\n",
    "I1 = cv2.cvtColor(I1,cv2.COLOR_BGR2GRAY)\n",
    "\n",
    "\n",
    "IG = tf.cast(I1, tf.float32)\n",
    "\n",
    "plt.imshow(ID)\n",
    "\n",
    "print(\"IG shape: \" + str(IG.shape))\n",
    "\n",
    "IG = IG/255\n",
    "\n",
    "IGP = np.expand_dims(IG,axis = 0)\n",
    "\n",
    "IGP = np.expand_dims(IGP,axis = 3)\n",
    "\n",
    "print(\"IGP Shape:\" + str(IGP.shape))\n",
    "\n",
    "predictions = model.predict(IGP)\n",
    "\n",
    "index = np.argmax(predictions)\n",
    "\n",
    "print(\"Predicted Emotion is: \" + str(classes[index]))"
   ]
  },
  {
   "cell_type": "code",
   "execution_count": 104,
   "metadata": {},
   "outputs": [
    {
     "name": "stdout",
     "output_type": "stream",
     "text": [
      "IG shape: (48, 48)\n",
      "IGP Shape:(1, 48, 48, 1)\n",
      "Predicted Emotion is: neutral\n"
     ]
    },
    {
     "data": {
      "image/png": "[encoded data removed]",
      "text/plain": [
       "<Figure size 432x288 with 1 Axes>"
      ]
     },
     "metadata": {
      "needs_background": "light"
     },
     "output_type": "display_data"
    }
   ],
   "source": [
    "\n",
    "I1 = cv2.imread('/Users/varun/Documents/Deep_Learning/data/test/neutral/im20.png')\n",
    "\n",
    "ID = cv2.cvtColor(I1,cv2.COLOR_BGR2RGB)\n",
    "\n",
    "I1 = cv2.cvtColor(I1,cv2.COLOR_BGR2GRAY)\n",
    "\n",
    "\n",
    "IG = tf.cast(I1, tf.float32)\n",
    "\n",
    "plt.imshow(ID)\n",
    "\n",
    "print(\"IG shape: \" + str(IG.shape))\n",
    "\n",
    "IG = IG/255\n",
    "\n",
    "IGP = np.expand_dims(IG,axis = 0)\n",
    "\n",
    "IGP = np.expand_dims(IGP,axis = 3)\n",
    "\n",
    "print(\"IGP Shape:\" + str(IGP.shape))\n",
    "\n",
    "predictions = model.predict(IGP)\n",
    "\n",
    "index = np.argmax(predictions)\n",
    "\n",
    "print(\"Predicted Emotion is: \" + str(classes[index]))"
   ]
  },
  {
   "cell_type": "code",
   "execution_count": null,
   "metadata": {},
   "outputs": [],
   "source": []
  }
 ],
 "metadata": {
  "kernelspec": {
   "display_name": "Python 3",
   "language": "python",
   "name": "python3"
  },
  "language_info": {
   "codemirror_mode": {
    "name": "ipython",
    "version": 3
   },
   "file_extension": ".py",
   "mimetype": "text/x-python",
   "name": "python",
   "nbconvert_exporter": "python",
   "pygments_lexer": "ipython3",
   "version": "3.6.3"
  }
 },
 "nbformat": 4,
 "nbformat_minor": 4
}
